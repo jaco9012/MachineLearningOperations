{
 "cells": [
  {
   "cell_type": "markdown",
   "metadata": {},
   "source": [
    "# Neural networks with PyTorch\n",
    "\n",
    "Deep learning networks tend to be massive with dozens or hundreds of layers, that's where the term \"deep\" comes from. You can build one of these deep networks using only weight matrices as we did in the previous notebook, but in general it's very cumbersome and difficult to implement. PyTorch has a nice module `nn` that provides a nice way to efficiently build large neural networks."
   ]
  },
  {
   "cell_type": "code",
   "execution_count": 2,
   "metadata": {},
   "outputs": [],
   "source": [
    "# Import necessary packages\n",
    "\n",
    "%matplotlib inline\n",
    "%config InlineBackend.figure_format = 'retina'\n",
    "\n",
    "import numpy as np\n",
    "import torch\n",
    "\n",
    "import helper\n",
    "\n",
    "import matplotlib.pyplot as plt"
   ]
  },
  {
   "cell_type": "markdown",
   "metadata": {},
   "source": [
    "\n",
    "Now we're going to build a larger network that can solve a (formerly) difficult problem, identifying text in an image. Here we'll use the MNIST dataset which consists of greyscale handwritten digits. Each image is 28x28 pixels, you can see a sample below\n",
    "\n",
    "<img src='assets/mnist.png'>\n",
    "\n",
    "Our goal is to build a neural network that can take one of these images and predict the digit in the image.\n",
    "\n",
    "First up, we need to get our dataset. This is provided through the `torchvision` package. The code below will download the MNIST dataset, then create training and test datasets for us. Don't worry too much about the details here, you'll learn more about this later."
   ]
  },
  {
   "cell_type": "code",
   "execution_count": 4,
   "metadata": {},
   "outputs": [
    {
     "name": "stdout",
     "output_type": "stream",
     "text": [
      "Collecting torchvision\n",
      "  Downloading torchvision-0.11.2-cp37-cp37m-manylinux1_x86_64.whl (23.3 MB)\n",
      "     |████████████████████████████████| 23.3 MB 41.5 MB/s            \n",
      "\u001b[?25hRequirement already satisfied: numpy in /home/jaco9012/anaconda3/lib/python3.7/site-packages (from torchvision) (1.15.1)\n",
      "Requirement already satisfied: torch==1.10.1 in /home/jaco9012/anaconda3/lib/python3.7/site-packages (from torchvision) (1.10.1)\n",
      "Collecting pillow!=8.3.0,>=5.3.0\n",
      "  Downloading Pillow-9.0.0-cp37-cp37m-manylinux_2_17_x86_64.manylinux2014_x86_64.whl (4.3 MB)\n",
      "     |████████████████████████████████| 4.3 MB 18.5 MB/s            \n",
      "\u001b[?25hRequirement already satisfied: typing-extensions in /home/jaco9012/anaconda3/lib/python3.7/site-packages (from torch==1.10.1->torchvision) (4.0.1)\n",
      "Installing collected packages: pillow, torchvision\n",
      "  Attempting uninstall: pillow\n",
      "    Found existing installation: Pillow 5.2.0\n",
      "    Uninstalling Pillow-5.2.0:\n",
      "      Successfully uninstalled Pillow-5.2.0\n",
      "Successfully installed pillow-9.0.0 torchvision-0.11.2\n"
     ]
    }
   ],
   "source": [
    "!pip install torchvision"
   ]
  },
  {
   "cell_type": "code",
   "execution_count": 5,
   "metadata": {},
   "outputs": [
    {
     "name": "stderr",
     "output_type": "stream",
     "text": [
      " 28%|██▊       | 2744320/9912422 [00:00<00:00, 27433807.51it/s]"
     ]
    },
    {
     "name": "stdout",
     "output_type": "stream",
     "text": [
      "Downloading http://yann.lecun.com/exdb/mnist/train-images-idx3-ubyte.gz\n",
      "Downloading http://yann.lecun.com/exdb/mnist/train-images-idx3-ubyte.gz to /home/jaco9012/.pytorch/MNIST_data/MNIST/raw/train-images-idx3-ubyte.gz\n"
     ]
    },
    {
     "name": "stderr",
     "output_type": "stream",
     "text": [
      "9913344it [00:00, 51238559.18it/s]                             \n"
     ]
    },
    {
     "name": "stdout",
     "output_type": "stream",
     "text": [
      "Extracting /home/jaco9012/.pytorch/MNIST_data/MNIST/raw/train-images-idx3-ubyte.gz to /home/jaco9012/.pytorch/MNIST_data/MNIST/raw\n"
     ]
    },
    {
     "name": "stderr",
     "output_type": "stream",
     "text": [
      "29696it [00:00, 27958260.74it/s]         "
     ]
    },
    {
     "name": "stdout",
     "output_type": "stream",
     "text": [
      "\n",
      "Downloading http://yann.lecun.com/exdb/mnist/train-labels-idx1-ubyte.gz\n",
      "Downloading http://yann.lecun.com/exdb/mnist/train-labels-idx1-ubyte.gz to /home/jaco9012/.pytorch/MNIST_data/MNIST/raw/train-labels-idx1-ubyte.gz\n",
      "Extracting /home/jaco9012/.pytorch/MNIST_data/MNIST/raw/train-labels-idx1-ubyte.gz to /home/jaco9012/.pytorch/MNIST_data/MNIST/raw\n",
      "\n",
      "Downloading http://yann.lecun.com/exdb/mnist/t10k-images-idx3-ubyte.gz\n",
      "Downloading http://yann.lecun.com/exdb/mnist/t10k-images-idx3-ubyte.gz to /home/jaco9012/.pytorch/MNIST_data/MNIST/raw/t10k-images-idx3-ubyte.gz\n"
     ]
    },
    {
     "name": "stderr",
     "output_type": "stream",
     "text": [
      "\n",
      "1649664it [00:00, 21248110.83it/s]         \n",
      "5120it [00:00, 6927366.61it/s]          "
     ]
    },
    {
     "name": "stdout",
     "output_type": "stream",
     "text": [
      "Extracting /home/jaco9012/.pytorch/MNIST_data/MNIST/raw/t10k-images-idx3-ubyte.gz to /home/jaco9012/.pytorch/MNIST_data/MNIST/raw\n",
      "\n",
      "Downloading http://yann.lecun.com/exdb/mnist/t10k-labels-idx1-ubyte.gz\n",
      "Downloading http://yann.lecun.com/exdb/mnist/t10k-labels-idx1-ubyte.gz to /home/jaco9012/.pytorch/MNIST_data/MNIST/raw/t10k-labels-idx1-ubyte.gz\n",
      "Extracting /home/jaco9012/.pytorch/MNIST_data/MNIST/raw/t10k-labels-idx1-ubyte.gz to /home/jaco9012/.pytorch/MNIST_data/MNIST/raw\n",
      "\n"
     ]
    },
    {
     "name": "stderr",
     "output_type": "stream",
     "text": [
      "\n"
     ]
    }
   ],
   "source": [
    "### Run this cell\n",
    "\n",
    "from torchvision import datasets, transforms\n",
    "\n",
    "# Define a transform to normalize the data\n",
    "transform = transforms.Compose([transforms.ToTensor(),\n",
    "                              transforms.Normalize((0.5,), (0.5,)),\n",
    "                              ])\n",
    "\n",
    "# Download and load the training data\n",
    "trainset = datasets.MNIST('~/.pytorch/MNIST_data/', download=True, train=True, transform=transform)\n",
    "trainloader = torch.utils.data.DataLoader(trainset, batch_size=64, shuffle=True)"
   ]
  },
  {
   "cell_type": "markdown",
   "metadata": {},
   "source": [
    "We have the training data loaded into `trainloader` and we make that an iterator with `iter(trainloader)`. Later, we'll use this to loop through the dataset for training, like\n",
    "\n",
    "```python\n",
    "for image, label in trainloader:\n",
    "    ## do things with images and labels\n",
    "```\n",
    "\n",
    "You'll notice I created the `trainloader` with a batch size of 64, and `shuffle=True`. The batch size is the number of images we get in one iteration from the data loader and pass through our network, often called a *batch*. And `shuffle=True` tells it to shuffle the dataset every time we start going through the data loader again. But here I'm just grabbing the first batch so we can check out the data. We can see below that `images` is just a tensor with size `(64, 1, 28, 28)`. So, 64 images per batch, 1 color channel, and 28x28 images."
   ]
  },
  {
   "cell_type": "code",
   "execution_count": 6,
   "metadata": {},
   "outputs": [
    {
     "name": "stdout",
     "output_type": "stream",
     "text": [
      "<class 'torch.Tensor'>\n",
      "torch.Size([64, 1, 28, 28])\n",
      "torch.Size([64])\n"
     ]
    }
   ],
   "source": [
    "dataiter = iter(trainloader)\n",
    "images, labels = dataiter.next()\n",
    "print(type(images))\n",
    "print(images.shape)\n",
    "print(labels.shape)"
   ]
  },
  {
   "cell_type": "markdown",
   "metadata": {},
   "source": [
    "This is what one of the images looks like. "
   ]
  },
  {
   "cell_type": "code",
   "execution_count": 16,
   "metadata": {},
   "outputs": [
    {
     "data": {
      "image/png": "[encoded data removed]",
      "text/plain": [
       "<Figure size 432x288 with 1 Axes>"
      ]
     },
     "metadata": {
      "image/png": {
       "height": 250,
       "width": 253
      },
      "needs_background": "light"
     },
     "output_type": "display_data"
    }
   ],
   "source": [
    "plt.imshow(images[1].numpy().squeeze(), cmap='Greys_r');"
   ]
  },
  {
   "cell_type": "markdown",
   "metadata": {},
   "source": [
    "First, let's try to build a simple network for this dataset using weight matrices and matrix multiplications. Then, we'll see how to do it using PyTorch's `nn` module which provides a much more convenient and powerful method for defining network architectures.\n",
    "\n",
    "The networks you've seen so far are called *fully-connected* or *dense* networks. Each unit in one layer is connected to each unit in the next layer. In fully-connected networks, the input to each layer must be a one-dimensional vector (which can be stacked into a 2D tensor as a batch of multiple examples). However, our images are 28x28 2D tensors, so we need to convert them into 1D vectors. Thinking about sizes, we need to convert the batch of images with shape `(64, 1, 28, 28)` to a have a shape of `(64, 784)`, 784 is 28 times 28. This is typically called *flattening*, we flattened the 2D images into 1D vectors.\n",
    "\n",
    "Previously you built a network with one output unit. Here we need 10 output units, one for each digit. We want our network to predict the digit shown in an image, so what we'll do is calculate probabilities that the image is of any one digit or class. This ends up being a discrete probability distribution over the classes (digits) that tells us the most likely class for the image. That means we need 10 output units for the 10 classes (digits). We'll see how to convert the network output into a probability distribution next.\n",
    "\n",
    "> **Exercise:** Flatten the batch of images `images`. Then build a multi-layer network with 784 input units, 256 hidden units, and 10 output units using random tensors for the weights and biases. For now, use a sigmoid activation for the hidden layer. Leave the output layer without an activation, we'll add one that gives us a probability distribution next."
   ]
  },
  {
   "cell_type": "code",
   "execution_count": 17,
   "metadata": {},
   "outputs": [],
   "source": [
    "## Your solution   \n",
    "\n",
    "## Activation function\n",
    "def activation(x):\n",
    "    \"\"\" Sigmoid activation function \n",
    "        Arguments\n",
    "        ---------\n",
    "        x: torch.Tensor\n",
    "    \"\"\"\n",
    "    return 1/(1+torch.exp(-x))\n",
    "\n",
    "### Neural network\n",
    "def multi_Layer_NW(inputUnits, hiddenUnits, outputUnits):\n",
    "    torch.manual_seed(7) # Set the random seed so things are predictable\n",
    "\n",
    "    # Define the size of each layer in our network\n",
    "    n_input = inputUnits     # Number of input units, must match number of input features\n",
    "    n_hidden = hiddenUnits   # Number of hidden units \n",
    "    n_output = outputUnits   # Number of output units\n",
    "\n",
    "    # Weights for inputs to hidden layer\n",
    "    W1 = torch.randn(n_input, n_hidden)\n",
    "    # Weights for hidden layer to output layer\n",
    "    W2 = torch.randn(n_hidden, n_output)\n",
    "\n",
    "    # and bias terms for hidden and output layers\n",
    "    B1 = torch.randn((1, n_hidden))\n",
    "    B2 = torch.randn((1, n_output))\n",
    "\n",
    "    return W1,W2,B1,B2\n",
    "\n",
    "def calc_output(features,W1,W2,B1,B2):\n",
    "    h = activation(torch.matmul(features,W1).add_(B1))\n",
    "    output = activation(torch.matmul(h,W2).add_(B2))\n",
    "    return output\n",
    "\n",
    "# Features are flattened batch input\n",
    "features = torch.flatten(images,start_dim=1)\n",
    "W1,W2,B1,B2 = multi_Layer_NW(features.shape[1],256,10)\n",
    "\n",
    "out = calc_output(features,W1,W2,B1,B2) # output of your network, should have shape (64,10)"
   ]
  },
  {
   "cell_type": "markdown",
   "metadata": {},
   "source": [
    "Now we have 10 outputs for our network. We want to pass in an image to our network and get out a probability distribution over the classes that tells us the likely class(es) the image belongs to. Something that looks like this:\n",
    "<img src='assets/image_distribution.png' width=500px>\n",
    "\n",
    "Here we see that the probability for each class is roughly the same. This is representing an untrained network, it hasn't seen any data yet so it just returns a uniform distribution with equal probabilities for each class.\n",
    "\n",
    "To calculate this probability distribution, we often use the [**softmax** function](https://en.wikipedia.org/wiki/Softmax_function). Mathematically this looks like\n",
    "\n",
    "$$\n",
    "\\Large \\sigma(x_i) = \\cfrac{e^{x_i}}{\\sum_k^K{e^{x_k}}}\n",
    "$$\n",
    "\n",
    "What this does is squish each input $x_i$ between 0 and 1 and normalizes the values to give you a proper probability distribution where the probabilites sum up to one.\n",
    "\n",
    "> **Exercise:** Implement a function `softmax` that performs the softmax calculation and returns probability distributions for each example in the batch. Note that you'll need to pay attention to the shapes when doing this. If you have a tensor `a` with shape `(64, 10)` and a tensor `b` with shape `(64,)`, doing `a/b` will give you an error because PyTorch will try to do the division across the columns (called broadcasting) but you'll get a size mismatch. The way to think about this is for each of the 64 examples, you only want to divide by one value, the sum in the denominator. So you need `b` to have a shape of `(64, 1)`. This way PyTorch will divide the 10 values in each row of `a` by the one value in each row of `b`. Pay attention to how you take the sum as well. You'll need to define the `dim` keyword in `torch.sum`. Setting `dim=0` takes the sum across the rows while `dim=1` takes the sum across the columns."
   ]
  },
  {
   "cell_type": "code",
   "execution_count": 46,
   "metadata": {},
   "outputs": [
    {
     "name": "stdout",
     "output_type": "stream",
     "text": [
      "tensor([[0.0156, 0.0138, 0.0248, 0.0144, 0.0107, 0.0160, 0.0114, 0.0206, 0.0156,\n",
      "         0.0117],\n",
      "        [0.0156, 0.0146, 0.0129, 0.0144, 0.0166, 0.0160, 0.0293, 0.0141, 0.0156,\n",
      "         0.0155],\n",
      "        [0.0156, 0.0140, 0.0226, 0.0144, 0.0167, 0.0159, 0.0309, 0.0207, 0.0156,\n",
      "         0.0117],\n",
      "        [0.0156, 0.0138, 0.0097, 0.0144, 0.0167, 0.0160, 0.0114, 0.0089, 0.0156,\n",
      "         0.0117],\n",
      "        [0.0156, 0.0142, 0.0123, 0.0144, 0.0167, 0.0149, 0.0114, 0.0195, 0.0156,\n",
      "         0.0117],\n",
      "        [0.0157, 0.0138, 0.0093, 0.0144, 0.0164, 0.0160, 0.0119, 0.0208, 0.0156,\n",
      "         0.0308],\n",
      "        [0.0156, 0.0139, 0.0249, 0.0161, 0.0161, 0.0150, 0.0114, 0.0117, 0.0156,\n",
      "         0.0117],\n",
      "        [0.0156, 0.0138, 0.0196, 0.0144, 0.0167, 0.0160, 0.0114, 0.0165, 0.0156,\n",
      "         0.0304],\n",
      "        [0.0156, 0.0146, 0.0095, 0.0144, 0.0167, 0.0154, 0.0114, 0.0077, 0.0156,\n",
      "         0.0120],\n",
      "        [0.0156, 0.0138, 0.0251, 0.0173, 0.0167, 0.0160, 0.0114, 0.0077, 0.0156,\n",
      "         0.0123],\n",
      "        [0.0156, 0.0138, 0.0196, 0.0145, 0.0167, 0.0160, 0.0126, 0.0091, 0.0156,\n",
      "         0.0117],\n",
      "        [0.0156, 0.0138, 0.0106, 0.0144, 0.0167, 0.0160, 0.0156, 0.0205, 0.0156,\n",
      "         0.0117],\n",
      "        [0.0156, 0.0147, 0.0093, 0.0144, 0.0167, 0.0159, 0.0114, 0.0103, 0.0156,\n",
      "         0.0183],\n",
      "        [0.0156, 0.0375, 0.0250, 0.0144, 0.0167, 0.0160, 0.0183, 0.0135, 0.0156,\n",
      "         0.0121],\n",
      "        [0.0156, 0.0138, 0.0110, 0.0144, 0.0167, 0.0160, 0.0114, 0.0077, 0.0156,\n",
      "         0.0178],\n",
      "        [0.0157, 0.0138, 0.0093, 0.0144, 0.0086, 0.0160, 0.0292, 0.0208, 0.0156,\n",
      "         0.0141],\n",
      "        [0.0156, 0.0148, 0.0097, 0.0144, 0.0082, 0.0145, 0.0114, 0.0077, 0.0156,\n",
      "         0.0155],\n",
      "        [0.0156, 0.0138, 0.0215, 0.0144, 0.0167, 0.0160, 0.0259, 0.0208, 0.0156,\n",
      "         0.0117],\n",
      "        [0.0156, 0.0143, 0.0217, 0.0144, 0.0167, 0.0160, 0.0114, 0.0208, 0.0156,\n",
      "         0.0117],\n",
      "        [0.0156, 0.0138, 0.0093, 0.0219, 0.0110, 0.0160, 0.0118, 0.0197, 0.0156,\n",
      "         0.0117],\n",
      "        [0.0156, 0.0138, 0.0109, 0.0144, 0.0167, 0.0160, 0.0149, 0.0077, 0.0156,\n",
      "         0.0117],\n",
      "        [0.0156, 0.0369, 0.0249, 0.0380, 0.0154, 0.0160, 0.0114, 0.0077, 0.0156,\n",
      "         0.0135],\n",
      "        [0.0156, 0.0138, 0.0205, 0.0144, 0.0167, 0.0160, 0.0114, 0.0208, 0.0157,\n",
      "         0.0117],\n",
      "        [0.0156, 0.0138, 0.0096, 0.0144, 0.0167, 0.0160, 0.0114, 0.0196, 0.0156,\n",
      "         0.0130],\n",
      "        [0.0156, 0.0139, 0.0094, 0.0144, 0.0167, 0.0154, 0.0114, 0.0094, 0.0156,\n",
      "         0.0138],\n",
      "        [0.0156, 0.0138, 0.0234, 0.0146, 0.0166, 0.0160, 0.0115, 0.0200, 0.0156,\n",
      "         0.0117],\n",
      "        [0.0156, 0.0138, 0.0183, 0.0144, 0.0123, 0.0118, 0.0114, 0.0204, 0.0156,\n",
      "         0.0176],\n",
      "        [0.0156, 0.0138, 0.0101, 0.0144, 0.0165, 0.0160, 0.0114, 0.0204, 0.0156,\n",
      "         0.0117],\n",
      "        [0.0156, 0.0138, 0.0094, 0.0144, 0.0167, 0.0160, 0.0114, 0.0208, 0.0156,\n",
      "         0.0118],\n",
      "        [0.0156, 0.0138, 0.0097, 0.0317, 0.0167, 0.0160, 0.0114, 0.0208, 0.0156,\n",
      "         0.0117],\n",
      "        [0.0156, 0.0138, 0.0248, 0.0144, 0.0166, 0.0159, 0.0226, 0.0208, 0.0156,\n",
      "         0.0119],\n",
      "        [0.0156, 0.0138, 0.0129, 0.0144, 0.0167, 0.0160, 0.0114, 0.0088, 0.0156,\n",
      "         0.0117],\n",
      "        [0.0156, 0.0138, 0.0093, 0.0144, 0.0062, 0.0159, 0.0138, 0.0207, 0.0156,\n",
      "         0.0231],\n",
      "        [0.0156, 0.0138, 0.0173, 0.0144, 0.0135, 0.0158, 0.0149, 0.0122, 0.0156,\n",
      "         0.0238],\n",
      "        [0.0156, 0.0138, 0.0172, 0.0144, 0.0167, 0.0160, 0.0114, 0.0077, 0.0156,\n",
      "         0.0313],\n",
      "        [0.0156, 0.0138, 0.0243, 0.0144, 0.0167, 0.0104, 0.0114, 0.0077, 0.0156,\n",
      "         0.0263],\n",
      "        [0.0156, 0.0138, 0.0204, 0.0144, 0.0165, 0.0160, 0.0114, 0.0208, 0.0162,\n",
      "         0.0216],\n",
      "        [0.0156, 0.0139, 0.0160, 0.0144, 0.0166, 0.0160, 0.0115, 0.0208, 0.0156,\n",
      "         0.0198],\n",
      "        [0.0156, 0.0138, 0.0175, 0.0144, 0.0167, 0.0160, 0.0114, 0.0105, 0.0156,\n",
      "         0.0164],\n",
      "        [0.0156, 0.0138, 0.0093, 0.0144, 0.0061, 0.0160, 0.0194, 0.0208, 0.0156,\n",
      "         0.0117],\n",
      "        [0.0156, 0.0138, 0.0114, 0.0144, 0.0167, 0.0160, 0.0206, 0.0208, 0.0158,\n",
      "         0.0196],\n",
      "        [0.0156, 0.0138, 0.0180, 0.0192, 0.0167, 0.0160, 0.0198, 0.0208, 0.0156,\n",
      "         0.0117],\n",
      "        [0.0156, 0.0140, 0.0252, 0.0144, 0.0166, 0.0160, 0.0114, 0.0208, 0.0156,\n",
      "         0.0120],\n",
      "        [0.0156, 0.0309, 0.0224, 0.0145, 0.0165, 0.0155, 0.0129, 0.0112, 0.0156,\n",
      "         0.0247],\n",
      "        [0.0156, 0.0138, 0.0093, 0.0144, 0.0166, 0.0156, 0.0114, 0.0077, 0.0157,\n",
      "         0.0117],\n",
      "        [0.0156, 0.0138, 0.0099, 0.0144, 0.0167, 0.0160, 0.0309, 0.0203, 0.0156,\n",
      "         0.0117],\n",
      "        [0.0156, 0.0138, 0.0196, 0.0207, 0.0167, 0.0160, 0.0114, 0.0206, 0.0159,\n",
      "         0.0316],\n",
      "        [0.0157, 0.0147, 0.0202, 0.0144, 0.0167, 0.0160, 0.0114, 0.0206, 0.0156,\n",
      "         0.0117],\n",
      "        [0.0156, 0.0361, 0.0159, 0.0144, 0.0165, 0.0158, 0.0261, 0.0077, 0.0156,\n",
      "         0.0160],\n",
      "        [0.0156, 0.0138, 0.0093, 0.0144, 0.0167, 0.0160, 0.0310, 0.0200, 0.0156,\n",
      "         0.0117],\n",
      "        [0.0156, 0.0138, 0.0093, 0.0144, 0.0167, 0.0160, 0.0208, 0.0208, 0.0156,\n",
      "         0.0127],\n",
      "        [0.0156, 0.0138, 0.0251, 0.0144, 0.0119, 0.0080, 0.0118, 0.0077, 0.0156,\n",
      "         0.0260],\n",
      "        [0.0156, 0.0138, 0.0252, 0.0144, 0.0167, 0.0159, 0.0194, 0.0208, 0.0156,\n",
      "         0.0117],\n",
      "        [0.0156, 0.0138, 0.0144, 0.0145, 0.0167, 0.0160, 0.0114, 0.0095, 0.0156,\n",
      "         0.0117],\n",
      "        [0.0156, 0.0138, 0.0093, 0.0145, 0.0166, 0.0160, 0.0114, 0.0102, 0.0156,\n",
      "         0.0314],\n",
      "        [0.0156, 0.0138, 0.0241, 0.0144, 0.0150, 0.0160, 0.0114, 0.0204, 0.0157,\n",
      "         0.0117],\n",
      "        [0.0156, 0.0373, 0.0250, 0.0190, 0.0163, 0.0160, 0.0302, 0.0208, 0.0156,\n",
      "         0.0117],\n",
      "        [0.0156, 0.0138, 0.0170, 0.0144, 0.0167, 0.0160, 0.0114, 0.0146, 0.0156,\n",
      "         0.0117],\n",
      "        [0.0156, 0.0147, 0.0095, 0.0249, 0.0167, 0.0160, 0.0114, 0.0078, 0.0156,\n",
      "         0.0190],\n",
      "        [0.0156, 0.0138, 0.0093, 0.0144, 0.0167, 0.0160, 0.0246, 0.0185, 0.0158,\n",
      "         0.0122],\n",
      "        [0.0156, 0.0138, 0.0093, 0.0144, 0.0167, 0.0160, 0.0114, 0.0208, 0.0156,\n",
      "         0.0118],\n",
      "        [0.0156, 0.0138, 0.0095, 0.0144, 0.0167, 0.0160, 0.0307, 0.0079, 0.0156,\n",
      "         0.0117],\n",
      "        [0.0156, 0.0139, 0.0093, 0.0144, 0.0165, 0.0160, 0.0285, 0.0188, 0.0156,\n",
      "         0.0201],\n",
      "        [0.0156, 0.0138, 0.0094, 0.0144, 0.0159, 0.0160, 0.0114, 0.0133, 0.0156,\n",
      "         0.0129]])\n",
      "torch.Size([64, 10])\n",
      "tensor([1.0000, 1.0000, 1.0000, 1.0000, 1.0000, 1.0000, 1.0000, 1.0000, 1.0000,\n",
      "        1.0000])\n"
     ]
    }
   ],
   "source": [
    "def softmax(x):\n",
    "    return torch.exp(x)/torch.exp(x).sum(dim=0)\n",
    "    ## TODO: Implement the softmax function here\n",
    "\n",
    "# Here, out should be the output of the network in the previous excercise with shape (64,10)\n",
    "probabilities = softmax(out)\n",
    "print(probabilities)\n",
    "# Does it have the right shape? Should be (64, 10)\n",
    "print(probabilities.shape)\n",
    "# Does it sum to 1?\n",
    "print(probabilities.sum(dim=0))"
   ]
  },
  {
   "cell_type": "markdown",
   "metadata": {},
   "source": [
    "## Building networks with PyTorch\n",
    "\n",
    "PyTorch provides a module `nn` that makes building networks much simpler. Here I'll show you how to build the same one as above with 784 inputs, 256 hidden units, 10 output units and a softmax output."
   ]
  },
  {
   "cell_type": "code",
   "execution_count": 47,
   "metadata": {},
   "outputs": [],
   "source": [
    "from torch import nn"
   ]
  },
  {
   "cell_type": "code",
   "execution_count": 48,
   "metadata": {},
   "outputs": [],
   "source": [
    "class Network(nn.Module):\n",
    "    def __init__(self):\n",
    "        super().__init__()\n",
    "        \n",
    "        # Inputs to hidden layer linear transformation\n",
    "        self.hidden = nn.Linear(784, 256)\n",
    "        # Output layer, 10 units - one for each digit\n",
    "        self.output = nn.Linear(256, 10)\n",
    "        \n",
    "        # Define sigmoid activation and softmax output \n",
    "        self.sigmoid = nn.Sigmoid()\n",
    "        self.softmax = nn.Softmax(dim=1)\n",
    "        \n",
    "    def forward(self, x):\n",
    "        # Pass the input tensor through each of our operations\n",
    "        x = self.hidden(x)\n",
    "        x = self.sigmoid(x)\n",
    "        x = self.output(x)\n",
    "        x = self.softmax(x)\n",
    "        \n",
    "        return x"
   ]
  },
  {
   "cell_type": "markdown",
   "metadata": {},
   "source": [
    "Let's go through this bit by bit.\n",
    "\n",
    "```python\n",
    "class Network(nn.Module):\n",
    "```\n",
    "\n",
    "Here we're inheriting from `nn.Module`. Combined with `super().__init__()` this creates a class that tracks the architecture and provides a lot of useful methods and attributes. It is mandatory to inherit from `nn.Module` when you're creating a class for your network. The name of the class itself can be anything.\n",
    "\n",
    "```python\n",
    "self.hidden = nn.Linear(784, 256)\n",
    "```\n",
    "\n",
    "This line creates a module for a linear transformation, $x\\mathbf{W} + b$, with 784 inputs and 256 outputs and assigns it to `self.hidden`. The module automatically creates the weight and bias tensors which we'll use in the `forward` method. You can access the weight and bias tensors once the network (`net`) is created with `net.hidden.weight` and `net.hidden.bias`.\n",
    "\n",
    "```python\n",
    "self.output = nn.Linear(256, 10)\n",
    "```\n",
    "\n",
    "Similarly, this creates another linear transformation with 256 inputs and 10 outputs.\n",
    "\n",
    "```python\n",
    "self.sigmoid = nn.Sigmoid()\n",
    "self.softmax = nn.Softmax(dim=1)\n",
    "```\n",
    "\n",
    "Here I defined operations for the sigmoid activation and softmax output. Setting `dim=1` in `nn.Softmax(dim=1)` calculates softmax across the columns.\n",
    "\n",
    "```python\n",
    "def forward(self, x):\n",
    "```\n",
    "\n",
    "PyTorch networks created with `nn.Module` must have a `forward` method defined. It takes in a tensor `x` and passes it through the operations you defined in the `__init__` method.\n",
    "\n",
    "```python\n",
    "x = self.hidden(x)\n",
    "x = self.sigmoid(x)\n",
    "x = self.output(x)\n",
    "x = self.softmax(x)\n",
    "```\n",
    "\n",
    "Here the input tensor `x` is passed through each operation and reassigned to `x`. We can see that the input tensor goes through the hidden layer, then a sigmoid function, then the output layer, and finally the softmax function. It doesn't matter what you name the variables here, as long as the inputs and outputs of the operations match the network architecture you want to build. The order in which you define things in the `__init__` method doesn't matter, but you'll need to sequence the operations correctly in the `forward` method.\n",
    "\n",
    "Now we can create a `Network` object."
   ]
  },
  {
   "cell_type": "code",
   "execution_count": 49,
   "metadata": {},
   "outputs": [
    {
     "data": {
      "text/plain": [
       "Network(\n",
       "  (hidden): Linear(in_features=784, out_features=256, bias=True)\n",
       "  (output): Linear(in_features=256, out_features=10, bias=True)\n",
       "  (sigmoid): Sigmoid()\n",
       "  (softmax): Softmax(dim=1)\n",
       ")"
      ]
     },
     "execution_count": 49,
     "metadata": {},
     "output_type": "execute_result"
    }
   ],
   "source": [
    "# Create the network and look at its text representation\n",
    "model = Network()\n",
    "model"
   ]
  },
  {
   "cell_type": "markdown",
   "metadata": {},
   "source": [
    "You can define the network somewhat more concisely and clearly using the `torch.nn.functional` module. This is the most common way you'll see networks defined as many operations are simple element-wise functions. We normally import this module as `F`, `import torch.nn.functional as F`."
   ]
  },
  {
   "cell_type": "code",
   "execution_count": 50,
   "metadata": {},
   "outputs": [],
   "source": [
    "import torch.nn.functional as F\n",
    "\n",
    "class Network(nn.Module):\n",
    "    def __init__(self):\n",
    "        super().__init__()\n",
    "        # Inputs to hidden layer linear transformation\n",
    "        self.hidden = nn.Linear(784, 256)\n",
    "        # Output layer, 10 units - one for each digit\n",
    "        self.output = nn.Linear(256, 10)\n",
    "        \n",
    "    def forward(self, x):\n",
    "        # Hidden layer with sigmoid activation\n",
    "        x = F.sigmoid(self.hidden(x))\n",
    "        # Output layer with softmax activation\n",
    "        x = F.softmax(self.output(x), dim=1)\n",
    "        \n",
    "        return x"
   ]
  },
  {
   "cell_type": "markdown",
   "metadata": {},
   "source": [
    "### Activation functions\n",
    "\n",
    "So far we've only been looking at the sigmoid activation function, but in general any function can be used as an activation function. The only requirement is that for a network to approximate a non-linear function, the activation functions must be non-linear. Here are a few more examples of common activation functions: Tanh (hyperbolic tangent), and ReLU (rectified linear unit).\n",
    "\n",
    "<img src=\"assets/activation.png\" width=700px>\n",
    "\n",
    "In practice, the ReLU function is used almost exclusively as the activation function for hidden layers."
   ]
  },
  {
   "cell_type": "markdown",
   "metadata": {},
   "source": [
    "### Your Turn to Build a Network\n",
    "\n",
    "<img src=\"assets/mlp_mnist.png\" width=600px>\n",
    "\n",
    "> **Exercise:** Create a network with 784 input units, a hidden layer with 128 units and a ReLU activation, then a hidden layer with 64 units and a ReLU activation, and finally an output layer with a softmax activation as shown above. You can use a ReLU activation with the `nn.ReLU` module or `F.relu` function.\n",
    "\n",
    "It's good practice to name your layers by their type of network, for instance 'fc' to represent a fully-connected layer. As you code your solution, use `fc1`, `fc2`, and `fc3` as your layer names."
   ]
  },
  {
   "cell_type": "code",
   "execution_count": 59,
   "metadata": {
    "scrolled": true
   },
   "outputs": [],
   "source": [
    "## Your solution here\n",
    "class Network(nn.Module):\n",
    "    def __init__(self):\n",
    "        super().__init__()\n",
    "        # Inputs to hidden layer linear transformation\n",
    "        self.fc1 = nn.Linear(784, 128)\n",
    "        self.fc2 = nn.Linear(128, 64)\n",
    "        self.fc3 = nn.Linear(64, 10)\n",
    "        \n",
    "    def forward(self, x):\n",
    "        # Hidden layers\n",
    "        x = F.relu(self.fc1(x))\n",
    "        x = F.relu(self.fc2(x))\n",
    "        x = F.softmax(self.fc3(x), dim=1)\n",
    "        \n",
    "        return x"
   ]
  },
  {
   "cell_type": "code",
   "execution_count": 60,
   "metadata": {},
   "outputs": [
    {
     "data": {
      "text/plain": [
       "Network(\n",
       "  (fc1): Linear(in_features=784, out_features=128, bias=True)\n",
       "  (fc2): Linear(in_features=128, out_features=64, bias=True)\n",
       "  (fc3): Linear(in_features=64, out_features=10, bias=True)\n",
       ")"
      ]
     },
     "execution_count": 60,
     "metadata": {},
     "output_type": "execute_result"
    }
   ],
   "source": [
    "model = Network()\n",
    "model"
   ]
  },
  {
   "cell_type": "markdown",
   "metadata": {},
   "source": [
    "### Initializing weights and biases\n",
    "\n",
    "The weights and such are automatically initialized for you, but it's possible to customize how they are initialized. The weights and biases are tensors attached to the layer you defined, you can get them with `model.fc1.weight` for instance."
   ]
  },
  {
   "cell_type": "code",
   "execution_count": 61,
   "metadata": {},
   "outputs": [
    {
     "name": "stdout",
     "output_type": "stream",
     "text": [
      "Parameter containing:\n",
      "tensor([[ 0.0211, -0.0246,  0.0001,  ..., -0.0117, -0.0044,  0.0083],\n",
      "        [ 0.0116,  0.0183,  0.0023,  ...,  0.0113,  0.0277, -0.0340],\n",
      "        [ 0.0052,  0.0077,  0.0205,  ..., -0.0171,  0.0280,  0.0293],\n",
      "        ...,\n",
      "        [ 0.0080,  0.0009,  0.0315,  ...,  0.0104, -0.0079, -0.0269],\n",
      "        [-0.0266,  0.0118,  0.0093,  ...,  0.0250, -0.0121,  0.0186],\n",
      "        [-0.0325,  0.0231, -0.0201,  ..., -0.0352,  0.0050,  0.0256]],\n",
      "       requires_grad=True)\n",
      "Parameter containing:\n",
      "tensor([-0.0017,  0.0095, -0.0266,  0.0272, -0.0022, -0.0268,  0.0099,  0.0096,\n",
      "        -0.0103, -0.0171, -0.0265, -0.0276,  0.0332, -0.0065, -0.0061, -0.0159,\n",
      "         0.0002, -0.0120, -0.0045, -0.0017,  0.0195,  0.0279, -0.0119,  0.0144,\n",
      "         0.0327, -0.0081,  0.0314, -0.0210,  0.0051, -0.0240, -0.0354,  0.0122,\n",
      "        -0.0116,  0.0218,  0.0215, -0.0301,  0.0036,  0.0012, -0.0079, -0.0138,\n",
      "         0.0157, -0.0089,  0.0324, -0.0022, -0.0165,  0.0110,  0.0059, -0.0163,\n",
      "        -0.0336,  0.0089,  0.0222,  0.0140,  0.0182, -0.0266, -0.0196,  0.0164,\n",
      "         0.0305, -0.0182, -0.0146,  0.0312, -0.0198,  0.0238,  0.0145,  0.0196,\n",
      "        -0.0306,  0.0072, -0.0060, -0.0016, -0.0085, -0.0106,  0.0318,  0.0127,\n",
      "        -0.0227, -0.0313,  0.0087, -0.0047, -0.0334, -0.0020, -0.0132, -0.0015,\n",
      "         0.0180,  0.0078, -0.0114,  0.0199,  0.0286, -0.0344, -0.0306,  0.0256,\n",
      "         0.0198,  0.0283, -0.0221, -0.0032, -0.0192, -0.0173, -0.0157, -0.0293,\n",
      "        -0.0291,  0.0291, -0.0207,  0.0284, -0.0075, -0.0130, -0.0245,  0.0085,\n",
      "         0.0034,  0.0028, -0.0145,  0.0053, -0.0357, -0.0264,  0.0171,  0.0037,\n",
      "        -0.0172,  0.0295,  0.0271, -0.0159, -0.0073,  0.0357, -0.0070,  0.0295,\n",
      "        -0.0046, -0.0038, -0.0173, -0.0088,  0.0244,  0.0303,  0.0341, -0.0108],\n",
      "       requires_grad=True)\n"
     ]
    }
   ],
   "source": [
    "print(model.fc1.weight)\n",
    "print(model.fc1.bias)"
   ]
  },
  {
   "cell_type": "markdown",
   "metadata": {},
   "source": [
    "For custom initialization, we want to modify these tensors in place. These are actually autograd *Variables*, so we need to get back the actual tensors with `model.fc1.weight.data`. Once we have the tensors, we can fill them with zeros (for biases) or random normal values."
   ]
  },
  {
   "cell_type": "code",
   "execution_count": 62,
   "metadata": {},
   "outputs": [
    {
     "data": {
      "text/plain": [
       "tensor([0., 0., 0., 0., 0., 0., 0., 0., 0., 0., 0., 0., 0., 0., 0., 0., 0., 0., 0., 0., 0., 0., 0., 0.,\n",
       "        0., 0., 0., 0., 0., 0., 0., 0., 0., 0., 0., 0., 0., 0., 0., 0., 0., 0., 0., 0., 0., 0., 0., 0.,\n",
       "        0., 0., 0., 0., 0., 0., 0., 0., 0., 0., 0., 0., 0., 0., 0., 0., 0., 0., 0., 0., 0., 0., 0., 0.,\n",
       "        0., 0., 0., 0., 0., 0., 0., 0., 0., 0., 0., 0., 0., 0., 0., 0., 0., 0., 0., 0., 0., 0., 0., 0.,\n",
       "        0., 0., 0., 0., 0., 0., 0., 0., 0., 0., 0., 0., 0., 0., 0., 0., 0., 0., 0., 0., 0., 0., 0., 0.,\n",
       "        0., 0., 0., 0., 0., 0., 0., 0.])"
      ]
     },
     "execution_count": 62,
     "metadata": {},
     "output_type": "execute_result"
    }
   ],
   "source": [
    "# Set biases to all zeros\n",
    "model.fc1.bias.data.fill_(0)"
   ]
  },
  {
   "cell_type": "code",
   "execution_count": 63,
   "metadata": {},
   "outputs": [
    {
     "data": {
      "text/plain": [
       "tensor([[-0.0170,  0.0212,  0.0021,  ...,  0.0032,  0.0094,  0.0059],\n",
       "        [-0.0055, -0.0163, -0.0018,  ...,  0.0011, -0.0082,  0.0090],\n",
       "        [-0.0095, -0.0014,  0.0102,  ..., -0.0124,  0.0020,  0.0009],\n",
       "        ...,\n",
       "        [ 0.0068,  0.0004, -0.0051,  ...,  0.0097,  0.0115,  0.0131],\n",
       "        [ 0.0003, -0.0155, -0.0028,  ..., -0.0191,  0.0010, -0.0085],\n",
       "        [ 0.0076,  0.0146, -0.0075,  ..., -0.0068,  0.0034,  0.0060]])"
      ]
     },
     "execution_count": 63,
     "metadata": {},
     "output_type": "execute_result"
    }
   ],
   "source": [
    "# sample from random normal with standard dev = 0.01\n",
    "model.fc1.weight.data.normal_(std=0.01)"
   ]
  },
  {
   "cell_type": "markdown",
   "metadata": {},
   "source": [
    "### Forward pass\n",
    "\n",
    "Now that we have a network, let's see what happens when we pass in an image."
   ]
  },
  {
   "cell_type": "code",
   "execution_count": 64,
   "metadata": {},
   "outputs": [
    {
     "data": {
      "image/png": "[encoded data removed]",
      "text/plain": [
       "<Figure size 432x648 with 2 Axes>"
      ]
     },
     "metadata": {
      "image/png": {
       "height": 224,
       "width": 423
      },
      "needs_background": "light"
     },
     "output_type": "display_data"
    }
   ],
   "source": [
    "# Grab some data \n",
    "dataiter = iter(trainloader)\n",
    "images, labels = dataiter.next()\n",
    "\n",
    "# Resize images into a 1D vector, new shape is (batch size, color channels, image pixels) \n",
    "images.resize_(64, 1, 784)\n",
    "# or images.resize_(images.shape[0], 1, 784) to automatically get batch size\n",
    "\n",
    "# Forward pass through the network\n",
    "img_idx = 0\n",
    "ps = model.forward(images[img_idx,:])\n",
    "\n",
    "img = images[img_idx]\n",
    "helper.view_classify(img.view(1, 28, 28), ps)"
   ]
  },
  {
   "cell_type": "markdown",
   "metadata": {},
   "source": [
    "As you can see above, our network has basically no idea what this digit is. It's because we haven't trained it yet, all the weights are random!\n",
    "\n",
    "### Using `nn.Sequential`\n",
    "\n",
    "PyTorch provides a convenient way to build networks like this where a tensor is passed sequentially through operations, `nn.Sequential` ([documentation](https://pytorch.org/docs/master/nn.html#torch.nn.Sequential)). Using this to build the equivalent network:"
   ]
  },
  {
   "cell_type": "code",
   "execution_count": 65,
   "metadata": {},
   "outputs": [
    {
     "name": "stdout",
     "output_type": "stream",
     "text": [
      "Sequential(\n",
      "  (0): Linear(in_features=784, out_features=128, bias=True)\n",
      "  (1): ReLU()\n",
      "  (2): Linear(in_features=128, out_features=64, bias=True)\n",
      "  (3): ReLU()\n",
      "  (4): Linear(in_features=64, out_features=10, bias=True)\n",
      "  (5): Softmax(dim=1)\n",
      ")\n"
     ]
    },
    {
     "data": {
      "image/png": "[encoded data removed]",
      "text/plain": [
       "<Figure size 432x648 with 2 Axes>"
      ]
     },
     "metadata": {
      "image/png": {
       "height": 224,
       "width": 423
      },
      "needs_background": "light"
     },
     "output_type": "display_data"
    }
   ],
   "source": [
    "# Hyperparameters for our network\n",
    "input_size = 784\n",
    "hidden_sizes = [128, 64]\n",
    "output_size = 10\n",
    "\n",
    "# Build a feed-forward network\n",
    "model = nn.Sequential(nn.Linear(input_size, hidden_sizes[0]),\n",
    "                      nn.ReLU(),\n",
    "                      nn.Linear(hidden_sizes[0], hidden_sizes[1]),\n",
    "                      nn.ReLU(),\n",
    "                      nn.Linear(hidden_sizes[1], output_size),\n",
    "                      nn.Softmax(dim=1))\n",
    "print(model)\n",
    "\n",
    "# Forward pass through the network and display output\n",
    "images, labels = next(iter(trainloader))\n",
    "images.resize_(images.shape[0], 1, 784)\n",
    "ps = model.forward(images[0,:])\n",
    "helper.view_classify(images[0].view(1, 28, 28), ps)"
   ]
  },
  {
   "cell_type": "markdown",
   "metadata": {},
   "source": [
    "Here our model is the same as before: 784 input units, a hidden layer with 128 units, ReLU activation, 64 unit hidden layer, another ReLU, then the output layer with 10 units, and the softmax output.\n",
    "\n",
    "The operations are available by passing in the appropriate index. For example, if you want to get first Linear operation and look at the weights, you'd use `model[0]`."
   ]
  },
  {
   "cell_type": "code",
   "execution_count": 66,
   "metadata": {},
   "outputs": [
    {
     "name": "stdout",
     "output_type": "stream",
     "text": [
      "Linear(in_features=784, out_features=128, bias=True)\n"
     ]
    },
    {
     "data": {
      "text/plain": [
       "Parameter containing:\n",
       "tensor([[ 0.0293,  0.0307, -0.0171,  ..., -0.0100, -0.0158, -0.0087],\n",
       "        [-0.0190, -0.0302,  0.0292,  ..., -0.0128,  0.0277,  0.0193],\n",
       "        [ 0.0317,  0.0192, -0.0261,  ...,  0.0190,  0.0167,  0.0056],\n",
       "        ...,\n",
       "        [-0.0308,  0.0289,  0.0045,  ..., -0.0224,  0.0257,  0.0137],\n",
       "        [-0.0304,  0.0076,  0.0152,  ...,  0.0290,  0.0323,  0.0211],\n",
       "        [-0.0296, -0.0069, -0.0212,  ..., -0.0203,  0.0329,  0.0194]],\n",
       "       requires_grad=True)"
      ]
     },
     "execution_count": 66,
     "metadata": {},
     "output_type": "execute_result"
    }
   ],
   "source": [
    "print(model[0])\n",
    "model[0].weight"
   ]
  },
  {
   "cell_type": "markdown",
   "metadata": {},
   "source": [
    "You can also pass in an `OrderedDict` to name the individual layers and operations, instead of using incremental integers. Note that dictionary keys must be unique, so _each operation must have a different name_."
   ]
  },
  {
   "cell_type": "code",
   "execution_count": 67,
   "metadata": {},
   "outputs": [
    {
     "data": {
      "text/plain": [
       "Sequential(\n",
       "  (fc1): Linear(in_features=784, out_features=128, bias=True)\n",
       "  (relu1): ReLU()\n",
       "  (fc2): Linear(in_features=128, out_features=64, bias=True)\n",
       "  (relu2): ReLU()\n",
       "  (output): Linear(in_features=64, out_features=10, bias=True)\n",
       "  (softmax): Softmax(dim=1)\n",
       ")"
      ]
     },
     "execution_count": 67,
     "metadata": {},
     "output_type": "execute_result"
    }
   ],
   "source": [
    "from collections import OrderedDict\n",
    "model = nn.Sequential(OrderedDict([\n",
    "                      ('fc1', nn.Linear(input_size, hidden_sizes[0])),\n",
    "                      ('relu1', nn.ReLU()),\n",
    "                      ('fc2', nn.Linear(hidden_sizes[0], hidden_sizes[1])),\n",
    "                      ('relu2', nn.ReLU()),\n",
    "                      ('output', nn.Linear(hidden_sizes[1], output_size)),\n",
    "                      ('softmax', nn.Softmax(dim=1))]))\n",
    "model"
   ]
  },
  {
   "cell_type": "markdown",
   "metadata": {},
   "source": [
    "Now you can access layers either by integer or the name"
   ]
  },
  {
   "cell_type": "code",
   "execution_count": 68,
   "metadata": {},
   "outputs": [
    {
     "name": "stdout",
     "output_type": "stream",
     "text": [
      "Linear(in_features=784, out_features=128, bias=True)\n",
      "Linear(in_features=784, out_features=128, bias=True)\n"
     ]
    }
   ],
   "source": [
    "print(model[0])\n",
    "print(model.fc1)"
   ]
  },
  {
   "cell_type": "markdown",
   "metadata": {},
   "source": [
    "In the next notebook, we'll see how we can train a neural network to accuractly predict the numbers appearing in the MNIST images."
   ]
  }
 ],
 "metadata": {
  "kernelspec": {
   "display_name": "Python 3",
   "language": "python",
   "name": "python3"
  },
  "language_info": {
   "codemirror_mode": {
    "name": "ipython",
    "version": 3
   },
   "file_extension": ".py",
   "mimetype": "text/x-python",
   "name": "python",
   "nbconvert_exporter": "python",
   "pygments_lexer": "ipython3",
   "version": "3.7.0"
  }
 },
 "nbformat": 4,
 "nbformat_minor": 2
}
